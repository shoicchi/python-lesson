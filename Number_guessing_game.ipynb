{
 "cells": [
  {
   "cell_type": "code",
   "execution_count": 1,
   "metadata": {},
   "outputs": [
    {
     "name": "stdout",
     "output_type": "stream",
     "text": [
      "Your guess?5\n",
      "Bigger\n",
      "Your guess?8\n",
      "Bigger\n",
      "Your guess?9\n",
      "Bigger\n",
      "Your guess?10\n",
      "Bingo!  It took 4 guesses!\n"
     ]
    }
   ],
   "source": [
    "import random\n",
    "answer = random.randint(1, 10)\n",
    "count = 0\n",
    "\n",
    "while True:\n",
    "    print(\"Your guess?\", end=\"\")\n",
    "    guess = int(input())\n",
    "    count += 1\n",
    "    \n",
    "    if answer == guess:\n",
    "        print(\"Bingo!  It took %i guesses!\" %count)\n",
    "        break\n",
    "    elif answer > guess:\n",
    "        print(\"Bigger\")\n",
    "    else:\n",
    "        print(\"Smaller\")\n"
   ]
  },
  {
   "cell_type": "code",
   "execution_count": null,
   "metadata": {},
   "outputs": [],
   "source": []
  },
  {
   "cell_type": "code",
   "execution_count": null,
   "metadata": {},
   "outputs": [],
   "source": []
  },
  {
   "cell_type": "code",
   "execution_count": null,
   "metadata": {},
   "outputs": [],
   "source": []
  }
 ],
 "metadata": {
  "kernelspec": {
   "display_name": "Python 3",
   "language": "python",
   "name": "python3"
  },
  "language_info": {
   "codemirror_mode": {
    "name": "ipython",
    "version": 3
   },
   "file_extension": ".py",
   "mimetype": "text/x-python",
   "name": "python",
   "nbconvert_exporter": "python",
   "pygments_lexer": "ipython3",
   "version": "3.7.3"
  }
 },
 "nbformat": 4,
 "nbformat_minor": 2
}
