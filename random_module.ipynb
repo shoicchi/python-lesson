{
 "cells": [
  {
   "cell_type": "code",
   "execution_count": 5,
   "metadata": {},
   "outputs": [
    {
     "name": "stdout",
     "output_type": "stream",
     "text": [
      "Your guess? 6\n",
      "Smaller\n",
      "[Answer:  2]\n"
     ]
    }
   ],
   "source": [
    "import random\n",
    "# randomモジュールのインポート\n",
    "answer = random.randint(1, 10)\n",
    "# randintでランダムにinteger取得\n",
    "\n",
    "print(\"Your guess? \",  end=\"\")\n",
    "guess = int(input())\n",
    "\n",
    "if answer == guess:\n",
    "    print(\"Bingo!\")\n",
    "elif answer > guess:\n",
    "    print(\"Bigger\")\n",
    "else:\n",
    "    print(\"Smaller\")\n",
    "\n",
    "print(\"[Answer:  %i]\" %answer)\n"
   ]
  },
  {
   "cell_type": "code",
   "execution_count": null,
   "metadata": {},
   "outputs": [],
   "source": []
  },
  {
   "cell_type": "code",
   "execution_count": null,
   "metadata": {},
   "outputs": [],
   "source": []
  },
  {
   "cell_type": "code",
   "execution_count": null,
   "metadata": {},
   "outputs": [],
   "source": []
  },
  {
   "cell_type": "code",
   "execution_count": null,
   "metadata": {},
   "outputs": [],
   "source": []
  },
  {
   "cell_type": "code",
   "execution_count": null,
   "metadata": {},
   "outputs": [],
   "source": []
  },
  {
   "cell_type": "code",
   "execution_count": null,
   "metadata": {},
   "outputs": [],
   "source": []
  },
  {
   "cell_type": "code",
   "execution_count": null,
   "metadata": {},
   "outputs": [],
   "source": []
  }
 ],
 "metadata": {
  "kernelspec": {
   "display_name": "Python 3",
   "language": "python",
   "name": "python3"
  },
  "language_info": {
   "codemirror_mode": {
    "name": "ipython",
    "version": 3
   },
   "file_extension": ".py",
   "mimetype": "text/x-python",
   "name": "python",
   "nbconvert_exporter": "python",
   "pygments_lexer": "ipython3",
   "version": "3.7.3"
  }
 },
 "nbformat": 4,
 "nbformat_minor": 2
}
