{
 "cells": [
  {
   "cell_type": "code",
   "execution_count": 4,
   "metadata": {},
   "outputs": [
    {
     "name": "stdout",
     "output_type": "stream",
     "text": [
      "Your guess? 5\n",
      "Bigger\n",
      "Your guess? 8\n",
      "Bigger\n",
      "Your guess? 9\n",
      "Bigger\n",
      "Your guess? 10\n",
      "Bingo!\n"
     ]
    }
   ],
   "source": [
    "import random \n",
    "answer = random.randint(1, 10)\n",
    "\n",
    "while True:\n",
    "    print(\"Your guess? \", end=\"\")\n",
    "    guess = int(input())\n",
    "\n",
    "    if answer == guess:\n",
    "        print(\"Bingo!\")\n",
    "        break\n",
    "    elif answer > guess:\n",
    "        print(\"Bigger\")\n",
    "    else:\n",
    "        print(\"Smaller\")\n",
    "\n",
    "# print(\"[Answer: %i]\",  %answer)"
   ]
  },
  {
   "cell_type": "code",
   "execution_count": null,
   "metadata": {},
   "outputs": [],
   "source": []
  },
  {
   "cell_type": "code",
   "execution_count": null,
   "metadata": {},
   "outputs": [],
   "source": []
  },
  {
   "cell_type": "code",
   "execution_count": null,
   "metadata": {},
   "outputs": [],
   "source": []
  },
  {
   "cell_type": "code",
   "execution_count": null,
   "metadata": {},
   "outputs": [],
   "source": []
  },
  {
   "cell_type": "code",
   "execution_count": null,
   "metadata": {},
   "outputs": [],
   "source": []
  },
  {
   "cell_type": "code",
   "execution_count": null,
   "metadata": {},
   "outputs": [],
   "source": []
  },
  {
   "cell_type": "code",
   "execution_count": null,
   "metadata": {},
   "outputs": [],
   "source": []
  }
 ],
 "metadata": {
  "kernelspec": {
   "display_name": "Python 3",
   "language": "python",
   "name": "python3"
  }
 },
 "nbformat": 4,
 "nbformat_minor": 2
}
